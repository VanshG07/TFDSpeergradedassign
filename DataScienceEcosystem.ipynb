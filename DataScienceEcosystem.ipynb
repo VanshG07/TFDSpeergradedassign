{
 "cells": [
  {
   "cell_type": "markdown",
   "id": "4673922c-2674-480a-ad7c-4fee025861fc",
   "metadata": {},
   "source": [
    "# Data Science Tools and Ecosystem"
   ]
  },
  {
   "cell_type": "markdown",
   "id": "18e35d10-3aab-4527-87f4-0410fde9537a",
   "metadata": {},
   "source": [
    "In this notebook, Data Science Tools and Ecosystem are summarized."
   ]
  },
  {
   "cell_type": "markdown",
   "id": "cc07f25a-cc56-4277-b219-63d368c857e4",
   "metadata": {},
   "source": [
    "**Objectives:**               \n",
    "* Popular Languages used by Data Scientists\n",
    "* Commonly used libraries used by Data Scientists\n",
    "* Data Science tools\n",
    "* A simple arithmetic expression to multiply then add integers.\n",
    "* Code to convert 200 minutes to hour\n"
   ]
  },
  {
   "cell_type": "markdown",
   "id": "8a17aea1-466a-4aa8-8178-22fd73f58943",
   "metadata": {},
   "source": []
  },
  {
   "cell_type": "markdown",
   "id": "c40e6b87-006c-4d82-9cc8-9c3508289a9a",
   "metadata": {},
   "source": [
    "Some of the popular languages that Data Scientists use are:\n",
    "1. Python\n",
    "2. R\n",
    "3. SQL\n",
    "4. Julia"
   ]
  },
  {
   "cell_type": "markdown",
   "id": "d120b39d-7e01-4d2a-88f7-63c3f8261648",
   "metadata": {},
   "source": [
    "Some of the commonly used libraries used by Data Scientists include:\n",
    "1. Tensorflow\n",
    "2. Pandas\n",
    "3. Numpy \n",
    "4. Scify"
   ]
  },
  {
   "cell_type": "markdown",
   "id": "96312237-69e3-4b84-969f-26f53ee660d9",
   "metadata": {},
   "source": [
    "Ex 6:-Development environment open source tools used in data science:-\n",
    "\n",
    "|Data Science tools|\n",
    "|------------------|\n",
    "|RStudio           |\n",
    "|Apache Spark      |\n",
    "|TensorFlow |"
   ]
  },
  {
   "cell_type": "markdown",
   "id": "fb4b36af-88a9-4aef-87e2-d2eb3770b42e",
   "metadata": {},
   "source": [
    "### Below are a few examples of evaluating arithmetic expressions in Python"
   ]
  },
  {
   "cell_type": "code",
   "execution_count": 2,
   "id": "caf16ae5-0176-45dc-829b-0f4da448fb7b",
   "metadata": {},
   "outputs": [
    {
     "name": "stdout",
     "output_type": "stream",
     "text": [
      "7\n",
      "12\n",
      "0.75\n",
      "-1\n"
     ]
    }
   ],
   "source": [
    "a=3\n",
    "b=4\n",
    "print(a+b)\n",
    "print(a*b)\n",
    "print(a/b)\n",
    "print(a-b)"
   ]
  },
  {
   "cell_type": "code",
   "execution_count": 3,
   "id": "8c855863-4579-46de-bb69-e7ddd6be7486",
   "metadata": {},
   "outputs": [
    {
     "name": "stdout",
     "output_type": "stream",
     "text": [
      "17\n"
     ]
    }
   ],
   "source": [
    "#Ex8\n",
    "#This a simple arithmetic expression to mutiply then add integers\n",
    "print((3*4)+5)\n"
   ]
  },
  {
   "cell_type": "code",
   "execution_count": 8,
   "id": "f1d7a98b-2232-442d-8703-bf8dc5e0853c",
   "metadata": {},
   "outputs": [
    {
     "name": "stdout",
     "output_type": "stream",
     "text": [
      "The foll output is in hours: 3.3333333333333335\n"
     ]
    }
   ],
   "source": [
    "#Ex9\n",
    "#This will convert 200 minutes to hours by diving by 60\n",
    "a=200\n",
    "print(\"The foll output is in hours:\",a/60)"
   ]
  },
  {
   "cell_type": "code",
   "execution_count": null,
   "id": "0175c394-73a6-4300-a31a-b5ca140d544a",
   "metadata": {},
   "outputs": [],
   "source": []
  }
 ],
 "metadata": {
  "kernelspec": {
   "display_name": "Python",
   "language": "python",
   "name": "conda-env-python-py"
  },
  "language_info": {
   "codemirror_mode": {
    "name": "ipython",
    "version": 3
   },
   "file_extension": ".py",
   "mimetype": "text/x-python",
   "name": "python",
   "nbconvert_exporter": "python",
   "pygments_lexer": "ipython3",
   "version": "3.7.12"
  }
 },
 "nbformat": 4,
 "nbformat_minor": 5
}
